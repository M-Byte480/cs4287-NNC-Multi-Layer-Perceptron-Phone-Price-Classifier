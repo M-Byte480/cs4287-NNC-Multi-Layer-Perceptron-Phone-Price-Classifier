{
 "cells": [
  {
   "metadata": {
    "ExecuteTime": {
     "end_time": "2024-10-06T20:06:05.103546Z",
     "start_time": "2024-10-06T20:06:05.097615Z"
    }
   },
   "cell_type": "code",
   "source": [
    "# Milan Kovacs - 21308128, Caoimhe Cahill - 21331308\n",
    "# The code runs to execution\n",
    "\n",
    "\"\"\"\n",
    "Work to be done:\n",
    "    - Loading of data    # Caoimhe\n",
    "    - Processing of data # Caoimhe\n",
    "    - Define optimiser   # Milan\n",
    "    - Define loss function # Caoimhe\n",
    "    - Define activation function (sigmoid vs others) # Milan\n",
    "    - Train\n",
    "        - Save # Milan\n",
    "        - Load # Milan\n",
    "    - Add comments explaining code\n",
    "    - Playing with Hyperparameters and noting the results\n",
    "        - Matplotlib \n",
    "            - Training graph\n",
    "            - Accuracy\n",
    "    - Evaluation \n",
    "\"\"\""
   ],
   "id": "fbc121e30a2defb3",
   "outputs": [],
   "execution_count": 53
  },
  {
   "metadata": {
    "ExecuteTime": {
     "end_time": "2024-10-06T20:06:05.123271Z",
     "start_time": "2024-10-06T20:06:05.118569Z"
    }
   },
   "cell_type": "code",
   "source": [
    "# Imports\n",
    "from typing import Callable, List\n",
    "import numpy as np\n"
   ],
   "id": "d9516f3f7107b233",
   "outputs": [],
   "execution_count": 54
  },
  {
   "metadata": {
    "ExecuteTime": {
     "end_time": "2024-10-06T20:06:05.153095Z",
     "start_time": "2024-10-06T20:06:05.138950Z"
    }
   },
   "cell_type": "code",
   "source": [
    "# Constructor\n",
    "class MultiLayerPerceptron:\n",
    "    def __init__(self, \n",
    "                 layers: List[int], \n",
    "                 provided_loss_function: Callable[['MultiLayerPerceptron'], None] = print, # todo: decide whether we pass these functions or call a switch case\n",
    "                 provided_optimiser: Callable[['MultiLayerPerceptron'], None] = print,\n",
    "                 training_data: List[any] = None,\n",
    "                 test_data: List[any] = None, \n",
    "                 learning_rate: float = 0.2, \n",
    "                 epoch: int = 1_000,  \n",
    "                 k_fold: int = 6, \n",
    "                 split_data: bool = False) -> None:\n",
    "        # Declarations\n",
    "        if test_data is None:\n",
    "            test_data = []\n",
    "            \n",
    "        if training_data is None:\n",
    "            training_data = []\n",
    "        \n",
    "        self.layers  = layers\n",
    "        self.num_layers = len(self.layers)\n",
    "        self.learning_rate = learning_rate\n",
    "        self.epoch = epoch\n",
    "        self.training_data = training_data\n",
    "        self.test_data  = test_data\n",
    "        self.k_fold = k_fold\n",
    "        self.config_data = split_data\n",
    "        self.provided_loss_function = provided_loss_function\n",
    "        self.provided_optimiser = provided_optimiser\n",
    "        self.weights = []\n",
    "        self.biases  = []\n",
    "        \n",
    "        # Setting up\n",
    "        self.set_weights()\n",
    "        self.set_biases()\n",
    "        \n",
    "        # Transform data\n",
    "\n",
    "\n",
    "        # Completion\n",
    "        print(str(self))\n",
    "    \n",
    "    \"\"\"\n",
    "        * Generates a list of array shapes for each weight that corresponds to each weight in a given layer.\n",
    "        * for example: if our layer is [4, 5, 2, 1], then we will have two lists to zip through\n",
    "        * [4, 5, 2] and [5, 2, 1] which means on first iteration, we have our input layer of [4] nodes connecting to each [5] nodes \n",
    "        * in the first hidden layer. This will generate a shape of 5 lists, with 4 weights each.\n",
    "        * Each shape corresponds to a node within our hidden layer (of 5 nodes) and in each shape the index \n",
    "        * corresponds to the index of our input layer. This is applied for the rest of the layers. \n",
    "    \"\"\"\n",
    "    def set_weights(self) -> None:\n",
    "        layers_after_input_layer = self.layers[1:]\n",
    "        layers_before_output_layer = self.layers[:-1]\n",
    "        self.weights = [\n",
    "            np.random.randn(y, x)\n",
    "            for x, y in zip(layers_before_output_layer, layers_after_input_layer)\n",
    "        ]\n",
    "    \n",
    "    \"\"\"\n",
    "        * Generates a list of Y by 1 dimensional list, where Y is the given layer size.\n",
    "        * This means we can correspond each index to a layer of biases,\n",
    "        * and within it, we can correspond each bias to a given node inside of that layer\n",
    "    \"\"\"\n",
    "    def set_biases(self) -> None:\n",
    "        layers_after_input = self.layers[1:]\n",
    "        self.biases = [\n",
    "            np.random.randn(y, 1) \n",
    "            for y in layers_after_input\n",
    "        ]\n",
    "        \n",
    "    def loss_function(self) -> None:\n",
    "        self.provided_loss_function(self)\n",
    "    \n",
    "    def optimiser(self) -> None:\n",
    "        self.provided_optimiser(self)\n",
    "    \n",
    "    \n",
    "        \n",
    "    def __str__(self) -> str:\n",
    "        return \"Network generated with the following layers: \" + str(self.layers)\n",
    "\n",
    "def tmp(mlp : 'MultiLayerPerceptron') -> None:\n",
    "    print(mlp.layers)\n",
    "    \n",
    "sample = MultiLayerPerceptron([4, 5, 2, 1], tmp, tmp)\n"
   ],
   "id": "923833d8c4598184",
   "outputs": [
    {
     "name": "stdout",
     "output_type": "stream",
     "text": [
      "Network generated with the following layers: [4, 5, 2, 1]\n"
     ]
    }
   ],
   "execution_count": 55
  },
  {
   "metadata": {
    "ExecuteTime": {
     "end_time": "2024-10-06T20:06:05.253281Z",
     "start_time": "2024-10-06T20:06:05.249398Z"
    }
   },
   "cell_type": "code",
   "source": [
    "# Optimisers\n",
    "def SGD(mlp: 'MultiLayerPerceptron'):\n",
    "    pass\n",
    "\n",
    "def Adam(mlp: 'MultiLayerPerceptron'):\n",
    "    pass"
   ],
   "id": "72cc68d6dd3e88e7",
   "outputs": [],
   "execution_count": 56
  },
  {
   "metadata": {
    "ExecuteTime": {
     "end_time": "2024-10-06T20:06:05.268933Z",
     "start_time": "2024-10-06T20:06:05.264132Z"
    }
   },
   "cell_type": "code",
   "source": [
    "# Activation functions\n",
    "# http://neuralnetworksanddeeplearning.com/chap1.html \n",
    "# ~ Michael Nielsen 2019\n",
    "threshold = 0\n",
    "\n",
    "def sigmoid(y: float):\n",
    "    return 1.0 / (1.0 + np.exp(-y))\n",
    "\n",
    "def sigmoid_prime(y: float):\n",
    "    return sigmoid(y) * (1 - sigmoid(y))\n",
    "    \n",
    "def stepper(y: float):\n",
    "    return 1 if y >= threshold else 0\n",
    "\n",
    "def tanh(y: float):\n",
    "    return np.tanh(y)\n",
    "\n",
    "def rectified_linear_unit(y: float):\n",
    "    pass"
   ],
   "id": "946294b609e9d7b6",
   "outputs": [],
   "execution_count": 57
  },
  {
   "metadata": {
    "ExecuteTime": {
     "end_time": "2024-10-06T20:06:05.304585Z",
     "start_time": "2024-10-06T20:06:05.301727Z"
    }
   },
   "cell_type": "code",
   "source": "",
   "id": "68fd37162aba67ae",
   "outputs": [],
   "execution_count": null
  },
  {
   "metadata": {
    "ExecuteTime": {
     "end_time": "2024-10-06T20:06:05.319186Z",
     "start_time": "2024-10-06T20:06:05.314601Z"
    }
   },
   "cell_type": "code",
   "source": [
    "# K-Fold for training and testing data\n",
    "print(sample.weights)"
   ],
   "id": "9b906e762b561b24",
   "outputs": [
    {
     "name": "stdout",
     "output_type": "stream",
     "text": [
      "[array([[-0.06441589, -1.15161631,  0.27548651, -1.17744553],\n",
      "       [-0.32535514,  0.88569849, -0.70556203,  1.35398409],\n",
      "       [ 1.19501848,  0.23627874,  0.53398499,  0.52027195],\n",
      "       [ 0.91753499,  0.50238585,  2.79688044, -1.32857794],\n",
      "       [ 1.23716913, -1.50503263,  0.97132252,  0.50741844]]), array([[ 0.21953692, -1.92219909, -0.26394012,  0.34961028, -0.79384531],\n",
      "       [ 1.05760206, -0.46561446, -0.66923213, -0.20769766, -1.28698735]]), array([[-0.01474267,  0.1816729 ]])]\n"
     ]
    }
   ],
   "execution_count": 58
  }
 ],
 "metadata": {
  "kernelspec": {
   "display_name": "Python 3",
   "language": "python",
   "name": "python3"
  },
  "language_info": {
   "codemirror_mode": {
    "name": "ipython",
    "version": 2
   },
   "file_extension": ".py",
   "mimetype": "text/x-python",
   "name": "python",
   "nbconvert_exporter": "python",
   "pygments_lexer": "ipython2",
   "version": "2.7.6"
  }
 },
 "nbformat": 4,
 "nbformat_minor": 5
}
