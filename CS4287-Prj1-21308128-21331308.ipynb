{
 "cells": [
  {
   "metadata": {
    "ExecuteTime": {
     "end_time": "2024-10-05T23:11:42.492715Z",
     "start_time": "2024-10-05T23:11:42.488813Z"
    }
   },
   "cell_type": "code",
   "source": [
    "# Milan Kovacs - 21308128, Caoimhe Cahill - 21331308\n",
    "# The code runs to execution"
   ],
   "id": "fbc121e30a2defb3",
   "outputs": [],
   "execution_count": 16
  },
  {
   "metadata": {
    "ExecuteTime": {
     "end_time": "2024-10-05T23:11:42.506961Z",
     "start_time": "2024-10-05T23:11:42.502259Z"
    }
   },
   "cell_type": "code",
   "source": [
    "# Imports\n",
    "import numpy as np"
   ],
   "id": "d9516f3f7107b233",
   "outputs": [],
   "execution_count": 17
  },
  {
   "metadata": {
    "ExecuteTime": {
     "end_time": "2024-10-05T23:24:14.768856Z",
     "start_time": "2024-10-05T23:24:14.707939Z"
    }
   },
   "cell_type": "code",
   "source": [
    "# Constructor\n",
    "class MultiLayerPerceptron:\n",
    "    def __init__(self, layers: list , training_data: list, learning_rate: float = 0.2, epoch: int = 1_000,  k_fold: int = 6) -> None:\n",
    "        # Declarations\n",
    "        self.layers  = layers\n",
    "        self.num_layers = len(self.layers)\n",
    "        self.weights = []\n",
    "        self.biases  = []\n",
    "        self.learning_rate = learning_rate\n",
    "        self.epoch = epoch\n",
    "        self.training_data = training_data\n",
    "        self.testing_data  = []\n",
    "        self.k_fold = k_fold\n",
    "        \n",
    "        # Setting up\n",
    "        self.set_weights()\n",
    "        self.set_biases()\n",
    "        \n",
    "        # Transform data\n",
    "        \n",
    "        # Completion\n",
    "        print(str(self))\n",
    "    \n",
    "    \"\"\"\n",
    "        * Generates a list of array shapes for each weight that corresponds to each weight in a given layer.\n",
    "        * for example: if our layer is [4, 5, 2, 1], then we will have two lists to zip through\n",
    "        * [4, 5, 2] and [5, 2, 1] which means on first iteration, we have our input layer of [4] nodes connecting to each [5] nodes \n",
    "        * in the first hidden layer. This will generate a shape of 5 lists, with 4 weights each.\n",
    "        * Each shape corresponds to a node within our hidden layer (of 5 nodes) and in each shape the index \n",
    "        * corresponds to the index of our input layer. This is for the rest of the layers. \n",
    "    \"\"\"\n",
    "    def set_weights(self) -> None:\n",
    "        layers_after_input_layer = self.layers[1:]\n",
    "        layers_before_output_layer = self.layers[:-1]\n",
    "        self.weights = [\n",
    "            np.random.randn(y, x)\n",
    "            for x, y in zip(layers_before_output_layer, layers_after_input_layer)\n",
    "        ]\n",
    "    \n",
    "    \"\"\"\n",
    "        * Generates a list of Y by 1 dimensional list, where Y is the given layer size.\n",
    "        * This means we can correspond each index to a layer of biases,\n",
    "        * and within it, we can correspond each bias to a given node inside of that layer\n",
    "    \"\"\"\n",
    "    def set_biases(self) -> None:\n",
    "        layers_after_input = self.layers[1:]\n",
    "        self.biases = [\n",
    "            np.random.randn(y, 1) \n",
    "            for y in layers_after_input\n",
    "        ]\n",
    "        \n",
    "    def __str__(self) -> str:\n",
    "        return \"Network generated with the following layers: \" + str(self.layers)\n",
    "\n",
    "\n",
    "sample = MultiLayerPerceptron([4, 5, 2, 1])\n"
   ],
   "id": "923833d8c4598184",
   "outputs": [
    {
     "name": "stdout",
     "output_type": "stream",
     "text": [
      "Network generated with the following layers: [4, 5, 2, 1]\n"
     ]
    }
   ],
   "execution_count": 32
  },
  {
   "metadata": {
    "ExecuteTime": {
     "end_time": "2024-10-05T23:11:42.560129Z",
     "start_time": "2024-10-05T23:11:42.554254Z"
    }
   },
   "cell_type": "code",
   "source": "# Pass forward",
   "id": "72cc68d6dd3e88e7",
   "outputs": [],
   "execution_count": 19
  },
  {
   "metadata": {
    "ExecuteTime": {
     "end_time": "2024-10-05T23:11:42.622653Z",
     "start_time": "2024-10-05T23:11:42.618090Z"
    }
   },
   "cell_type": "code",
   "source": "# Training",
   "id": "946294b609e9d7b6",
   "outputs": [],
   "execution_count": 20
  },
  {
   "metadata": {
    "ExecuteTime": {
     "end_time": "2024-10-05T23:12:21.003195Z",
     "start_time": "2024-10-05T23:12:20.997614Z"
    }
   },
   "cell_type": "code",
   "source": "",
   "id": "68fd37162aba67ae",
   "outputs": [],
   "execution_count": 27
  },
  {
   "metadata": {
    "ExecuteTime": {
     "end_time": "2024-10-05T23:12:22.455556Z",
     "start_time": "2024-10-05T23:12:22.448533Z"
    }
   },
   "cell_type": "code",
   "source": [
    "# K-Fold for training and testing data\n",
    "print(sample.weights)"
   ],
   "id": "9b906e762b561b24",
   "outputs": [
    {
     "name": "stdout",
     "output_type": "stream",
     "text": [
      "[array([[ 0.59428402,  0.94397662, -0.51891439,  0.18960908],\n",
      "       [-0.40973078, -1.41240237,  1.54990842,  1.38777465],\n",
      "       [ 0.16187396, -1.77100826, -0.78233533,  0.57267828],\n",
      "       [ 0.79979405,  0.82078084, -2.0903556 ,  1.6304427 ],\n",
      "       [-1.52159401,  0.41786871, -1.78633   , -1.87557606]]), array([[-1.15948619,  0.90332813,  0.75834005, -0.34528691,  0.23733199],\n",
      "       [-0.06189222,  0.52659231,  0.09288681,  2.47968626, -0.57923084]]), array([[0.09951519, 0.63212274]])]\n"
     ]
    }
   ],
   "execution_count": 28
  }
 ],
 "metadata": {
  "kernelspec": {
   "display_name": "Python 3",
   "language": "python",
   "name": "python3"
  },
  "language_info": {
   "codemirror_mode": {
    "name": "ipython",
    "version": 2
   },
   "file_extension": ".py",
   "mimetype": "text/x-python",
   "name": "python",
   "nbconvert_exporter": "python",
   "pygments_lexer": "ipython2",
   "version": "2.7.6"
  }
 },
 "nbformat": 4,
 "nbformat_minor": 5
}
